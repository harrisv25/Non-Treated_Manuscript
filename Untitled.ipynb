{
 "cells": [
  {
   "cell_type": "code",
   "execution_count": 1,
   "id": "0a2289c1",
   "metadata": {},
   "outputs": [],
   "source": [
    "import os\n",
    "import pandas as pd\n",
    "import numpy as np"
   ]
  },
  {
   "cell_type": "code",
   "execution_count": 4,
   "id": "b88e0b14",
   "metadata": {},
   "outputs": [],
   "source": [
    "table = pd.read_csv('../data/SL_CES_17.csv')"
   ]
  },
  {
   "cell_type": "code",
   "execution_count": 7,
   "id": "7446272f",
   "metadata": {},
   "outputs": [
    {
     "data": {
      "text/html": [
       "<div>\n",
       "<style scoped>\n",
       "    .dataframe tbody tr th:only-of-type {\n",
       "        vertical-align: middle;\n",
       "    }\n",
       "\n",
       "    .dataframe tbody tr th {\n",
       "        vertical-align: top;\n",
       "    }\n",
       "\n",
       "    .dataframe thead th {\n",
       "        text-align: right;\n",
       "    }\n",
       "</style>\n",
       "<table border=\"1\" class=\"dataframe\">\n",
       "  <thead>\n",
       "    <tr style=\"text-align: right;\">\n",
       "      <th></th>\n",
       "      <th>_GPS_latitude</th>\n",
       "      <th>_GPS_longitude</th>\n",
       "    </tr>\n",
       "  </thead>\n",
       "  <tbody>\n",
       "    <tr>\n",
       "      <th>0</th>\n",
       "      <td>8.890500</td>\n",
       "      <td>-12.038117</td>\n",
       "    </tr>\n",
       "    <tr>\n",
       "      <th>1</th>\n",
       "      <td>8.890340</td>\n",
       "      <td>-12.038260</td>\n",
       "    </tr>\n",
       "    <tr>\n",
       "      <th>2</th>\n",
       "      <td>8.890344</td>\n",
       "      <td>-12.038238</td>\n",
       "    </tr>\n",
       "    <tr>\n",
       "      <th>3</th>\n",
       "      <td>8.890776</td>\n",
       "      <td>-12.038441</td>\n",
       "    </tr>\n",
       "    <tr>\n",
       "      <th>4</th>\n",
       "      <td>8.890676</td>\n",
       "      <td>-12.038419</td>\n",
       "    </tr>\n",
       "    <tr>\n",
       "      <th>...</th>\n",
       "      <td>...</td>\n",
       "      <td>...</td>\n",
       "    </tr>\n",
       "    <tr>\n",
       "      <th>6015</th>\n",
       "      <td>8.287401</td>\n",
       "      <td>-10.573057</td>\n",
       "    </tr>\n",
       "    <tr>\n",
       "      <th>6016</th>\n",
       "      <td>8.287400</td>\n",
       "      <td>-10.572978</td>\n",
       "    </tr>\n",
       "    <tr>\n",
       "      <th>6017</th>\n",
       "      <td>8.286835</td>\n",
       "      <td>-10.573283</td>\n",
       "    </tr>\n",
       "    <tr>\n",
       "      <th>6018</th>\n",
       "      <td>8.286686</td>\n",
       "      <td>-10.573035</td>\n",
       "    </tr>\n",
       "    <tr>\n",
       "      <th>6019</th>\n",
       "      <td>8.286669</td>\n",
       "      <td>-10.573076</td>\n",
       "    </tr>\n",
       "  </tbody>\n",
       "</table>\n",
       "<p>6020 rows × 2 columns</p>\n",
       "</div>"
      ],
      "text/plain": [
       "      _GPS_latitude  _GPS_longitude\n",
       "0          8.890500      -12.038117\n",
       "1          8.890340      -12.038260\n",
       "2          8.890344      -12.038238\n",
       "3          8.890776      -12.038441\n",
       "4          8.890676      -12.038419\n",
       "...             ...             ...\n",
       "6015       8.287401      -10.573057\n",
       "6016       8.287400      -10.572978\n",
       "6017       8.286835      -10.573283\n",
       "6018       8.286686      -10.573035\n",
       "6019       8.286669      -10.573076\n",
       "\n",
       "[6020 rows x 2 columns]"
      ]
     },
     "execution_count": 7,
     "metadata": {},
     "output_type": "execute_result"
    }
   ],
   "source": [
    "table[['_GPS_latitude', '_GPS_longitude']]"
   ]
  }
 ],
 "metadata": {
  "kernelspec": {
   "display_name": "Python 3 (ipykernel)",
   "language": "python",
   "name": "python3"
  },
  "language_info": {
   "codemirror_mode": {
    "name": "ipython",
    "version": 3
   },
   "file_extension": ".py",
   "mimetype": "text/x-python",
   "name": "python",
   "nbconvert_exporter": "python",
   "pygments_lexer": "ipython3",
   "version": "3.8.11"
  }
 },
 "nbformat": 4,
 "nbformat_minor": 5
}
